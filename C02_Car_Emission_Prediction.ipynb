{
  "nbformat": 4,
  "nbformat_minor": 0,
  "metadata": {
    "colab": {
      "name": "C02 Car Emission Prediction.ipynb",
      "provenance": [],
      "collapsed_sections": [],
      "authorship_tag": "ABX9TyNu88NWUh14gmxWZluBa/0v",
      "include_colab_link": true
    },
    "kernelspec": {
      "name": "python3",
      "display_name": "Python 3"
    },
    "language_info": {
      "name": "python"
    }
  },
  "cells": [
    {
      "cell_type": "markdown",
      "metadata": {
        "id": "view-in-github",
        "colab_type": "text"
      },
      "source": [
        "<a href=\"https://colab.research.google.com/github/yashpokra/C02-Emissions-Prediction/blob/main/C02_Car_Emission_Prediction.ipynb\" target=\"_parent\"><img src=\"https://colab.research.google.com/assets/colab-badge.svg\" alt=\"Open In Colab\"/></a>"
      ]
    },
    {
      "cell_type": "markdown",
      "metadata": {
        "id": "_wN2n9MpvRvB"
      },
      "source": [
        "Importing Libraries\n"
      ]
    },
    {
      "cell_type": "code",
      "metadata": {
        "id": "888-jJNjvHoS"
      },
      "source": [
        "import pandas as pd \n",
        "import matplotlib.pyplot as plt\n",
        "import seaborn as sn\n",
        "from sklearn.linear_model import LinearRegression\n",
        "from sklearn import metrics\n",
        "from sklearn.model_selection import train_test_split\n"
      ],
      "execution_count": 34,
      "outputs": []
    },
    {
      "cell_type": "code",
      "source": [
        "!wget https://raw.githubusercontent.com/yashpokra/C02-Emissions-Prediction/main/CO2%20Emissions_Canada.csv"
      ],
      "metadata": {
        "colab": {
          "base_uri": "https://localhost:8080/"
        },
        "id": "AzDPYzU9vsRO",
        "outputId": "ff2c36dd-0f59-476f-8ab8-8e9fb9862289"
      },
      "execution_count": 35,
      "outputs": [
        {
          "output_type": "stream",
          "name": "stdout",
          "text": [
            "--2022-05-12 05:30:09--  https://raw.githubusercontent.com/yashpokra/C02-Emissions-Prediction/main/CO2%20Emissions_Canada.csv\n",
            "Resolving raw.githubusercontent.com (raw.githubusercontent.com)... 185.199.109.133, 185.199.108.133, 185.199.111.133, ...\n",
            "Connecting to raw.githubusercontent.com (raw.githubusercontent.com)|185.199.109.133|:443... connected.\n",
            "HTTP request sent, awaiting response... 200 OK\n",
            "Length: 476091 (465K) [text/plain]\n",
            "Saving to: ‘CO2 Emissions_Canada.csv.1’\n",
            "\n",
            "\r          CO2 Emiss   0%[                    ]       0  --.-KB/s               \rCO2 Emissions_Canad 100%[===================>] 464.93K  --.-KB/s    in 0.005s  \n",
            "\n",
            "2022-05-12 05:30:09 (99.9 MB/s) - ‘CO2 Emissions_Canada.csv.1’ saved [476091/476091]\n",
            "\n"
          ]
        }
      ]
    },
    {
      "cell_type": "code",
      "metadata": {
        "id": "yAWMEAbOv3bh"
      },
      "source": [
        "Emissions_data = pd.read_csv(\"/content/CO2 Emissions_Canada .csv\") #read excel file "
      ],
      "execution_count": 36,
      "outputs": []
    },
    {
      "cell_type": "code",
      "metadata": {
        "colab": {
          "base_uri": "https://localhost:8080/"
        },
        "id": "dECtE8mewKwD",
        "outputId": "f8203f18-93bc-43a7-f34b-5222ce2e8e0f"
      },
      "source": [
        "Emissions_data.info() #displays info of all the data"
      ],
      "execution_count": 37,
      "outputs": [
        {
          "output_type": "stream",
          "name": "stdout",
          "text": [
            "<class 'pandas.core.frame.DataFrame'>\n",
            "RangeIndex: 7385 entries, 0 to 7384\n",
            "Data columns (total 12 columns):\n",
            " #   Column                            Non-Null Count  Dtype  \n",
            "---  ------                            --------------  -----  \n",
            " 0   Make                              7385 non-null   object \n",
            " 1   Model                             7385 non-null   object \n",
            " 2   Vehicle_Class                     7385 non-null   object \n",
            " 3   Engine_Size(L)                    7385 non-null   float64\n",
            " 4   Cylinders                         7385 non-null   int64  \n",
            " 5   Transmission                      7385 non-null   object \n",
            " 6   Fuel_Type                         7385 non-null   object \n",
            " 7   Fuel_Consumption_City (L/100 km)  7385 non-null   float64\n",
            " 8   Fuel_Consumption_Hwy (L/100 km)   7385 non-null   float64\n",
            " 9   Fuel_Consumption_Comb (L/100 km)  7385 non-null   float64\n",
            " 10  Fuel_ Consumption_Comb (mpg)      7385 non-null   int64  \n",
            " 11  CO2_Emissions(g/km)               7385 non-null   int64  \n",
            "dtypes: float64(4), int64(3), object(5)\n",
            "memory usage: 692.5+ KB\n"
          ]
        }
      ]
    },
    {
      "cell_type": "code",
      "metadata": {
        "colab": {
          "base_uri": "https://localhost:8080/",
          "height": 357
        },
        "id": "xy-C0GAMwK3m",
        "outputId": "6c4bbefe-da4d-41c5-e352-483d9b47bb95"
      },
      "source": [
        "Emissions_data.head() #shows the first five rows of the data "
      ],
      "execution_count": 38,
      "outputs": [
        {
          "output_type": "execute_result",
          "data": {
            "text/plain": [
              "    Make       Model Vehicle_Class  Engine_Size(L)  Cylinders Transmission  \\\n",
              "0  ACURA         ILX       COMPACT             2.0          4          AS5   \n",
              "1  ACURA         ILX       COMPACT             2.4          4           M6   \n",
              "2  ACURA  ILX HYBRID       COMPACT             1.5          4          AV7   \n",
              "3  ACURA     MDX 4WD   SUV - SMALL             3.5          6          AS6   \n",
              "4  ACURA     RDX AWD   SUV - SMALL             3.5          6          AS6   \n",
              "\n",
              "  Fuel_Type  Fuel_Consumption_City (L/100 km)  \\\n",
              "0         Z                               9.9   \n",
              "1         Z                              11.2   \n",
              "2         Z                               6.0   \n",
              "3         Z                              12.7   \n",
              "4         Z                              12.1   \n",
              "\n",
              "   Fuel_Consumption_Hwy (L/100 km)  Fuel_Consumption_Comb (L/100 km)  \\\n",
              "0                              6.7                               8.5   \n",
              "1                              7.7                               9.6   \n",
              "2                              5.8                               5.9   \n",
              "3                              9.1                              11.1   \n",
              "4                              8.7                              10.6   \n",
              "\n",
              "   Fuel_ Consumption_Comb (mpg)  CO2_Emissions(g/km)  \n",
              "0                            33                  196  \n",
              "1                            29                  221  \n",
              "2                            48                  136  \n",
              "3                            25                  255  \n",
              "4                            27                  244  "
            ],
            "text/html": [
              "\n",
              "  <div id=\"df-38a2ea87-ef95-459d-8e82-e5a4fb57ff50\">\n",
              "    <div class=\"colab-df-container\">\n",
              "      <div>\n",
              "<style scoped>\n",
              "    .dataframe tbody tr th:only-of-type {\n",
              "        vertical-align: middle;\n",
              "    }\n",
              "\n",
              "    .dataframe tbody tr th {\n",
              "        vertical-align: top;\n",
              "    }\n",
              "\n",
              "    .dataframe thead th {\n",
              "        text-align: right;\n",
              "    }\n",
              "</style>\n",
              "<table border=\"1\" class=\"dataframe\">\n",
              "  <thead>\n",
              "    <tr style=\"text-align: right;\">\n",
              "      <th></th>\n",
              "      <th>Make</th>\n",
              "      <th>Model</th>\n",
              "      <th>Vehicle_Class</th>\n",
              "      <th>Engine_Size(L)</th>\n",
              "      <th>Cylinders</th>\n",
              "      <th>Transmission</th>\n",
              "      <th>Fuel_Type</th>\n",
              "      <th>Fuel_Consumption_City (L/100 km)</th>\n",
              "      <th>Fuel_Consumption_Hwy (L/100 km)</th>\n",
              "      <th>Fuel_Consumption_Comb (L/100 km)</th>\n",
              "      <th>Fuel_ Consumption_Comb (mpg)</th>\n",
              "      <th>CO2_Emissions(g/km)</th>\n",
              "    </tr>\n",
              "  </thead>\n",
              "  <tbody>\n",
              "    <tr>\n",
              "      <th>0</th>\n",
              "      <td>ACURA</td>\n",
              "      <td>ILX</td>\n",
              "      <td>COMPACT</td>\n",
              "      <td>2.0</td>\n",
              "      <td>4</td>\n",
              "      <td>AS5</td>\n",
              "      <td>Z</td>\n",
              "      <td>9.9</td>\n",
              "      <td>6.7</td>\n",
              "      <td>8.5</td>\n",
              "      <td>33</td>\n",
              "      <td>196</td>\n",
              "    </tr>\n",
              "    <tr>\n",
              "      <th>1</th>\n",
              "      <td>ACURA</td>\n",
              "      <td>ILX</td>\n",
              "      <td>COMPACT</td>\n",
              "      <td>2.4</td>\n",
              "      <td>4</td>\n",
              "      <td>M6</td>\n",
              "      <td>Z</td>\n",
              "      <td>11.2</td>\n",
              "      <td>7.7</td>\n",
              "      <td>9.6</td>\n",
              "      <td>29</td>\n",
              "      <td>221</td>\n",
              "    </tr>\n",
              "    <tr>\n",
              "      <th>2</th>\n",
              "      <td>ACURA</td>\n",
              "      <td>ILX HYBRID</td>\n",
              "      <td>COMPACT</td>\n",
              "      <td>1.5</td>\n",
              "      <td>4</td>\n",
              "      <td>AV7</td>\n",
              "      <td>Z</td>\n",
              "      <td>6.0</td>\n",
              "      <td>5.8</td>\n",
              "      <td>5.9</td>\n",
              "      <td>48</td>\n",
              "      <td>136</td>\n",
              "    </tr>\n",
              "    <tr>\n",
              "      <th>3</th>\n",
              "      <td>ACURA</td>\n",
              "      <td>MDX 4WD</td>\n",
              "      <td>SUV - SMALL</td>\n",
              "      <td>3.5</td>\n",
              "      <td>6</td>\n",
              "      <td>AS6</td>\n",
              "      <td>Z</td>\n",
              "      <td>12.7</td>\n",
              "      <td>9.1</td>\n",
              "      <td>11.1</td>\n",
              "      <td>25</td>\n",
              "      <td>255</td>\n",
              "    </tr>\n",
              "    <tr>\n",
              "      <th>4</th>\n",
              "      <td>ACURA</td>\n",
              "      <td>RDX AWD</td>\n",
              "      <td>SUV - SMALL</td>\n",
              "      <td>3.5</td>\n",
              "      <td>6</td>\n",
              "      <td>AS6</td>\n",
              "      <td>Z</td>\n",
              "      <td>12.1</td>\n",
              "      <td>8.7</td>\n",
              "      <td>10.6</td>\n",
              "      <td>27</td>\n",
              "      <td>244</td>\n",
              "    </tr>\n",
              "  </tbody>\n",
              "</table>\n",
              "</div>\n",
              "      <button class=\"colab-df-convert\" onclick=\"convertToInteractive('df-38a2ea87-ef95-459d-8e82-e5a4fb57ff50')\"\n",
              "              title=\"Convert this dataframe to an interactive table.\"\n",
              "              style=\"display:none;\">\n",
              "        \n",
              "  <svg xmlns=\"http://www.w3.org/2000/svg\" height=\"24px\"viewBox=\"0 0 24 24\"\n",
              "       width=\"24px\">\n",
              "    <path d=\"M0 0h24v24H0V0z\" fill=\"none\"/>\n",
              "    <path d=\"M18.56 5.44l.94 2.06.94-2.06 2.06-.94-2.06-.94-.94-2.06-.94 2.06-2.06.94zm-11 1L8.5 8.5l.94-2.06 2.06-.94-2.06-.94L8.5 2.5l-.94 2.06-2.06.94zm10 10l.94 2.06.94-2.06 2.06-.94-2.06-.94-.94-2.06-.94 2.06-2.06.94z\"/><path d=\"M17.41 7.96l-1.37-1.37c-.4-.4-.92-.59-1.43-.59-.52 0-1.04.2-1.43.59L10.3 9.45l-7.72 7.72c-.78.78-.78 2.05 0 2.83L4 21.41c.39.39.9.59 1.41.59.51 0 1.02-.2 1.41-.59l7.78-7.78 2.81-2.81c.8-.78.8-2.07 0-2.86zM5.41 20L4 18.59l7.72-7.72 1.47 1.35L5.41 20z\"/>\n",
              "  </svg>\n",
              "      </button>\n",
              "      \n",
              "  <style>\n",
              "    .colab-df-container {\n",
              "      display:flex;\n",
              "      flex-wrap:wrap;\n",
              "      gap: 12px;\n",
              "    }\n",
              "\n",
              "    .colab-df-convert {\n",
              "      background-color: #E8F0FE;\n",
              "      border: none;\n",
              "      border-radius: 50%;\n",
              "      cursor: pointer;\n",
              "      display: none;\n",
              "      fill: #1967D2;\n",
              "      height: 32px;\n",
              "      padding: 0 0 0 0;\n",
              "      width: 32px;\n",
              "    }\n",
              "\n",
              "    .colab-df-convert:hover {\n",
              "      background-color: #E2EBFA;\n",
              "      box-shadow: 0px 1px 2px rgba(60, 64, 67, 0.3), 0px 1px 3px 1px rgba(60, 64, 67, 0.15);\n",
              "      fill: #174EA6;\n",
              "    }\n",
              "\n",
              "    [theme=dark] .colab-df-convert {\n",
              "      background-color: #3B4455;\n",
              "      fill: #D2E3FC;\n",
              "    }\n",
              "\n",
              "    [theme=dark] .colab-df-convert:hover {\n",
              "      background-color: #434B5C;\n",
              "      box-shadow: 0px 1px 3px 1px rgba(0, 0, 0, 0.15);\n",
              "      filter: drop-shadow(0px 1px 2px rgba(0, 0, 0, 0.3));\n",
              "      fill: #FFFFFF;\n",
              "    }\n",
              "  </style>\n",
              "\n",
              "      <script>\n",
              "        const buttonEl =\n",
              "          document.querySelector('#df-38a2ea87-ef95-459d-8e82-e5a4fb57ff50 button.colab-df-convert');\n",
              "        buttonEl.style.display =\n",
              "          google.colab.kernel.accessAllowed ? 'block' : 'none';\n",
              "\n",
              "        async function convertToInteractive(key) {\n",
              "          const element = document.querySelector('#df-38a2ea87-ef95-459d-8e82-e5a4fb57ff50');\n",
              "          const dataTable =\n",
              "            await google.colab.kernel.invokeFunction('convertToInteractive',\n",
              "                                                     [key], {});\n",
              "          if (!dataTable) return;\n",
              "\n",
              "          const docLinkHtml = 'Like what you see? Visit the ' +\n",
              "            '<a target=\"_blank\" href=https://colab.research.google.com/notebooks/data_table.ipynb>data table notebook</a>'\n",
              "            + ' to learn more about interactive tables.';\n",
              "          element.innerHTML = '';\n",
              "          dataTable['output_type'] = 'display_data';\n",
              "          await google.colab.output.renderOutput(dataTable, element);\n",
              "          const docLink = document.createElement('div');\n",
              "          docLink.innerHTML = docLinkHtml;\n",
              "          element.appendChild(docLink);\n",
              "        }\n",
              "      </script>\n",
              "    </div>\n",
              "  </div>\n",
              "  "
            ]
          },
          "metadata": {},
          "execution_count": 38
        }
      ]
    },
    {
      "cell_type": "code",
      "metadata": {
        "colab": {
          "base_uri": "https://localhost:8080/",
          "height": 478
        },
        "id": "_CPZi1GtwK9-",
        "outputId": "ce8e89da-238f-433d-f713-92ef221b88f2"
      },
      "source": [
        "Emissions_data.tail() #shows the last rows of the data "
      ],
      "execution_count": 39,
      "outputs": [
        {
          "output_type": "execute_result",
          "data": {
            "text/plain": [
              "       Make        Model   Vehicle_Class  Engine_Size(L)  Cylinders  \\\n",
              "7380  VOLVO  XC40 T5 AWD     SUV - SMALL             2.0          4   \n",
              "7381  VOLVO  XC60 T5 AWD     SUV - SMALL             2.0          4   \n",
              "7382  VOLVO  XC60 T6 AWD     SUV - SMALL             2.0          4   \n",
              "7383  VOLVO  XC90 T5 AWD  SUV - STANDARD             2.0          4   \n",
              "7384  VOLVO  XC90 T6 AWD  SUV - STANDARD             2.0          4   \n",
              "\n",
              "     Transmission Fuel_Type  Fuel_Consumption_City (L/100 km)  \\\n",
              "7380          AS8         Z                              10.7   \n",
              "7381          AS8         Z                              11.2   \n",
              "7382          AS8         Z                              11.7   \n",
              "7383          AS8         Z                              11.2   \n",
              "7384          AS8         Z                              12.2   \n",
              "\n",
              "      Fuel_Consumption_Hwy (L/100 km)  Fuel_Consumption_Comb (L/100 km)  \\\n",
              "7380                              7.7                               9.4   \n",
              "7381                              8.3                               9.9   \n",
              "7382                              8.6                              10.3   \n",
              "7383                              8.3                               9.9   \n",
              "7384                              8.7                              10.7   \n",
              "\n",
              "      Fuel_ Consumption_Comb (mpg)  CO2_Emissions(g/km)  \n",
              "7380                            30                  219  \n",
              "7381                            29                  232  \n",
              "7382                            27                  240  \n",
              "7383                            29                  232  \n",
              "7384                            26                  248  "
            ],
            "text/html": [
              "\n",
              "  <div id=\"df-51c92dcc-18ef-4f00-9490-1ad0f92ab7c6\">\n",
              "    <div class=\"colab-df-container\">\n",
              "      <div>\n",
              "<style scoped>\n",
              "    .dataframe tbody tr th:only-of-type {\n",
              "        vertical-align: middle;\n",
              "    }\n",
              "\n",
              "    .dataframe tbody tr th {\n",
              "        vertical-align: top;\n",
              "    }\n",
              "\n",
              "    .dataframe thead th {\n",
              "        text-align: right;\n",
              "    }\n",
              "</style>\n",
              "<table border=\"1\" class=\"dataframe\">\n",
              "  <thead>\n",
              "    <tr style=\"text-align: right;\">\n",
              "      <th></th>\n",
              "      <th>Make</th>\n",
              "      <th>Model</th>\n",
              "      <th>Vehicle_Class</th>\n",
              "      <th>Engine_Size(L)</th>\n",
              "      <th>Cylinders</th>\n",
              "      <th>Transmission</th>\n",
              "      <th>Fuel_Type</th>\n",
              "      <th>Fuel_Consumption_City (L/100 km)</th>\n",
              "      <th>Fuel_Consumption_Hwy (L/100 km)</th>\n",
              "      <th>Fuel_Consumption_Comb (L/100 km)</th>\n",
              "      <th>Fuel_ Consumption_Comb (mpg)</th>\n",
              "      <th>CO2_Emissions(g/km)</th>\n",
              "    </tr>\n",
              "  </thead>\n",
              "  <tbody>\n",
              "    <tr>\n",
              "      <th>7380</th>\n",
              "      <td>VOLVO</td>\n",
              "      <td>XC40 T5 AWD</td>\n",
              "      <td>SUV - SMALL</td>\n",
              "      <td>2.0</td>\n",
              "      <td>4</td>\n",
              "      <td>AS8</td>\n",
              "      <td>Z</td>\n",
              "      <td>10.7</td>\n",
              "      <td>7.7</td>\n",
              "      <td>9.4</td>\n",
              "      <td>30</td>\n",
              "      <td>219</td>\n",
              "    </tr>\n",
              "    <tr>\n",
              "      <th>7381</th>\n",
              "      <td>VOLVO</td>\n",
              "      <td>XC60 T5 AWD</td>\n",
              "      <td>SUV - SMALL</td>\n",
              "      <td>2.0</td>\n",
              "      <td>4</td>\n",
              "      <td>AS8</td>\n",
              "      <td>Z</td>\n",
              "      <td>11.2</td>\n",
              "      <td>8.3</td>\n",
              "      <td>9.9</td>\n",
              "      <td>29</td>\n",
              "      <td>232</td>\n",
              "    </tr>\n",
              "    <tr>\n",
              "      <th>7382</th>\n",
              "      <td>VOLVO</td>\n",
              "      <td>XC60 T6 AWD</td>\n",
              "      <td>SUV - SMALL</td>\n",
              "      <td>2.0</td>\n",
              "      <td>4</td>\n",
              "      <td>AS8</td>\n",
              "      <td>Z</td>\n",
              "      <td>11.7</td>\n",
              "      <td>8.6</td>\n",
              "      <td>10.3</td>\n",
              "      <td>27</td>\n",
              "      <td>240</td>\n",
              "    </tr>\n",
              "    <tr>\n",
              "      <th>7383</th>\n",
              "      <td>VOLVO</td>\n",
              "      <td>XC90 T5 AWD</td>\n",
              "      <td>SUV - STANDARD</td>\n",
              "      <td>2.0</td>\n",
              "      <td>4</td>\n",
              "      <td>AS8</td>\n",
              "      <td>Z</td>\n",
              "      <td>11.2</td>\n",
              "      <td>8.3</td>\n",
              "      <td>9.9</td>\n",
              "      <td>29</td>\n",
              "      <td>232</td>\n",
              "    </tr>\n",
              "    <tr>\n",
              "      <th>7384</th>\n",
              "      <td>VOLVO</td>\n",
              "      <td>XC90 T6 AWD</td>\n",
              "      <td>SUV - STANDARD</td>\n",
              "      <td>2.0</td>\n",
              "      <td>4</td>\n",
              "      <td>AS8</td>\n",
              "      <td>Z</td>\n",
              "      <td>12.2</td>\n",
              "      <td>8.7</td>\n",
              "      <td>10.7</td>\n",
              "      <td>26</td>\n",
              "      <td>248</td>\n",
              "    </tr>\n",
              "  </tbody>\n",
              "</table>\n",
              "</div>\n",
              "      <button class=\"colab-df-convert\" onclick=\"convertToInteractive('df-51c92dcc-18ef-4f00-9490-1ad0f92ab7c6')\"\n",
              "              title=\"Convert this dataframe to an interactive table.\"\n",
              "              style=\"display:none;\">\n",
              "        \n",
              "  <svg xmlns=\"http://www.w3.org/2000/svg\" height=\"24px\"viewBox=\"0 0 24 24\"\n",
              "       width=\"24px\">\n",
              "    <path d=\"M0 0h24v24H0V0z\" fill=\"none\"/>\n",
              "    <path d=\"M18.56 5.44l.94 2.06.94-2.06 2.06-.94-2.06-.94-.94-2.06-.94 2.06-2.06.94zm-11 1L8.5 8.5l.94-2.06 2.06-.94-2.06-.94L8.5 2.5l-.94 2.06-2.06.94zm10 10l.94 2.06.94-2.06 2.06-.94-2.06-.94-.94-2.06-.94 2.06-2.06.94z\"/><path d=\"M17.41 7.96l-1.37-1.37c-.4-.4-.92-.59-1.43-.59-.52 0-1.04.2-1.43.59L10.3 9.45l-7.72 7.72c-.78.78-.78 2.05 0 2.83L4 21.41c.39.39.9.59 1.41.59.51 0 1.02-.2 1.41-.59l7.78-7.78 2.81-2.81c.8-.78.8-2.07 0-2.86zM5.41 20L4 18.59l7.72-7.72 1.47 1.35L5.41 20z\"/>\n",
              "  </svg>\n",
              "      </button>\n",
              "      \n",
              "  <style>\n",
              "    .colab-df-container {\n",
              "      display:flex;\n",
              "      flex-wrap:wrap;\n",
              "      gap: 12px;\n",
              "    }\n",
              "\n",
              "    .colab-df-convert {\n",
              "      background-color: #E8F0FE;\n",
              "      border: none;\n",
              "      border-radius: 50%;\n",
              "      cursor: pointer;\n",
              "      display: none;\n",
              "      fill: #1967D2;\n",
              "      height: 32px;\n",
              "      padding: 0 0 0 0;\n",
              "      width: 32px;\n",
              "    }\n",
              "\n",
              "    .colab-df-convert:hover {\n",
              "      background-color: #E2EBFA;\n",
              "      box-shadow: 0px 1px 2px rgba(60, 64, 67, 0.3), 0px 1px 3px 1px rgba(60, 64, 67, 0.15);\n",
              "      fill: #174EA6;\n",
              "    }\n",
              "\n",
              "    [theme=dark] .colab-df-convert {\n",
              "      background-color: #3B4455;\n",
              "      fill: #D2E3FC;\n",
              "    }\n",
              "\n",
              "    [theme=dark] .colab-df-convert:hover {\n",
              "      background-color: #434B5C;\n",
              "      box-shadow: 0px 1px 3px 1px rgba(0, 0, 0, 0.15);\n",
              "      filter: drop-shadow(0px 1px 2px rgba(0, 0, 0, 0.3));\n",
              "      fill: #FFFFFF;\n",
              "    }\n",
              "  </style>\n",
              "\n",
              "      <script>\n",
              "        const buttonEl =\n",
              "          document.querySelector('#df-51c92dcc-18ef-4f00-9490-1ad0f92ab7c6 button.colab-df-convert');\n",
              "        buttonEl.style.display =\n",
              "          google.colab.kernel.accessAllowed ? 'block' : 'none';\n",
              "\n",
              "        async function convertToInteractive(key) {\n",
              "          const element = document.querySelector('#df-51c92dcc-18ef-4f00-9490-1ad0f92ab7c6');\n",
              "          const dataTable =\n",
              "            await google.colab.kernel.invokeFunction('convertToInteractive',\n",
              "                                                     [key], {});\n",
              "          if (!dataTable) return;\n",
              "\n",
              "          const docLinkHtml = 'Like what you see? Visit the ' +\n",
              "            '<a target=\"_blank\" href=https://colab.research.google.com/notebooks/data_table.ipynb>data table notebook</a>'\n",
              "            + ' to learn more about interactive tables.';\n",
              "          element.innerHTML = '';\n",
              "          dataTable['output_type'] = 'display_data';\n",
              "          await google.colab.output.renderOutput(dataTable, element);\n",
              "          const docLink = document.createElement('div');\n",
              "          docLink.innerHTML = docLinkHtml;\n",
              "          element.appendChild(docLink);\n",
              "        }\n",
              "      </script>\n",
              "    </div>\n",
              "  </div>\n",
              "  "
            ]
          },
          "metadata": {},
          "execution_count": 39
        }
      ]
    },
    {
      "cell_type": "code",
      "source": [
        "Emissions_data.columns"
      ],
      "metadata": {
        "colab": {
          "base_uri": "https://localhost:8080/"
        },
        "id": "oDWw-m3Jg-yY",
        "outputId": "c400a7cb-b1b5-4d0d-d621-d0b41b2d28d5"
      },
      "execution_count": 40,
      "outputs": [
        {
          "output_type": "execute_result",
          "data": {
            "text/plain": [
              "Index(['Make', 'Model', 'Vehicle_Class', 'Engine_Size(L)', 'Cylinders',\n",
              "       'Transmission', 'Fuel_Type', 'Fuel_Consumption_City (L/100 km)',\n",
              "       'Fuel_Consumption_Hwy (L/100 km)', 'Fuel_Consumption_Comb (L/100 km)',\n",
              "       'Fuel_ Consumption_Comb (mpg)', 'CO2_Emissions(g/km)'],\n",
              "      dtype='object')"
            ]
          },
          "metadata": {},
          "execution_count": 40
        }
      ]
    },
    {
      "cell_type": "code",
      "source": [
        "Emissions_data.iloc[:, 11]"
      ],
      "metadata": {
        "colab": {
          "base_uri": "https://localhost:8080/"
        },
        "id": "pck43ZgMhVZS",
        "outputId": "a56fce79-07e9-4092-f9d7-e20f96e3d18f"
      },
      "execution_count": 41,
      "outputs": [
        {
          "output_type": "execute_result",
          "data": {
            "text/plain": [
              "0       196\n",
              "1       221\n",
              "2       136\n",
              "3       255\n",
              "4       244\n",
              "       ... \n",
              "7380    219\n",
              "7381    232\n",
              "7382    240\n",
              "7383    232\n",
              "7384    248\n",
              "Name: CO2_Emissions(g/km), Length: 7385, dtype: int64"
            ]
          },
          "metadata": {},
          "execution_count": 41
        }
      ]
    },
    {
      "cell_type": "code",
      "metadata": {
        "colab": {
          "base_uri": "https://localhost:8080/",
          "height": 299
        },
        "id": "Yy4YuuOHxXen",
        "outputId": "e494b9e1-9f12-4981-bfad-23a29531e140"
      },
      "source": [
        "x = (Emissions_data.iloc[:, 1].head()) # get the model names \n",
        "y = (Emissions_data.iloc[:, 11].head()) # get the C02 values \n",
        "plt.plot(x,y)\n",
        "plt.xlabel(\"Acura Car Models\")\n",
        "plt.ylabel(\"C02 Consumption\")"
      ],
      "execution_count": 42,
      "outputs": [
        {
          "output_type": "execute_result",
          "data": {
            "text/plain": [
              "Text(0, 0.5, 'C02 Consumption')"
            ]
          },
          "metadata": {},
          "execution_count": 42
        },
        {
          "output_type": "display_data",
          "data": {
            "text/plain": [
              "<Figure size 432x288 with 1 Axes>"
            ],
            "image/png": "[encoded data removed]"
          },
          "metadata": {
            "needs_background": "light"
          }
        }
      ]
    },
    {
      "cell_type": "code",
      "metadata": {
        "colab": {
          "base_uri": "https://localhost:8080/"
        },
        "id": "5X9RyIyLwLC6",
        "outputId": "14de9ce7-b9ad-41ae-e90f-ff34dcb8647c"
      },
      "source": [
        "Emissions_data.count() #counts the total amount of each value in the column "
      ],
      "execution_count": 43,
      "outputs": [
        {
          "output_type": "execute_result",
          "data": {
            "text/plain": [
              "Make                                7385\n",
              "Model                               7385\n",
              "Vehicle_Class                       7385\n",
              "Engine_Size(L)                      7385\n",
              "Cylinders                           7385\n",
              "Transmission                        7385\n",
              "Fuel_Type                           7385\n",
              "Fuel_Consumption_City (L/100 km)    7385\n",
              "Fuel_Consumption_Hwy (L/100 km)     7385\n",
              "Fuel_Consumption_Comb (L/100 km)    7385\n",
              "Fuel_ Consumption_Comb (mpg)        7385\n",
              "CO2_Emissions(g/km)                 7385\n",
              "dtype: int64"
            ]
          },
          "metadata": {},
          "execution_count": 43
        }
      ]
    },
    {
      "cell_type": "code",
      "metadata": {
        "colab": {
          "base_uri": "https://localhost:8080/"
        },
        "id": "dQiwmSwpwLF3",
        "outputId": "5097842a-cb30-4976-aa19-9104f84e2e2a"
      },
      "source": [
        "print(Emissions_data.Cylinders.value_counts())\n",
        "#amount of cylinders for fuel"
      ],
      "execution_count": 44,
      "outputs": [
        {
          "output_type": "stream",
          "name": "stdout",
          "text": [
            "4     3220\n",
            "6     2446\n",
            "8     1402\n",
            "12     151\n",
            "3       95\n",
            "10      42\n",
            "5       26\n",
            "16       3\n",
            "Name: Cylinders, dtype: int64\n"
          ]
        }
      ]
    },
    {
      "cell_type": "code",
      "metadata": {
        "colab": {
          "base_uri": "https://localhost:8080/"
        },
        "id": "1g8DupImwLIG",
        "outputId": "49ed2c52-0670-4444-9b0e-76ed6d34b0dd"
      },
      "source": [
        "print(Emissions_data.Transmission.value_counts())\n",
        "#Transmission type with number of gears listed by it"
      ],
      "execution_count": 45,
      "outputs": [
        {
          "output_type": "stream",
          "name": "stdout",
          "text": [
            "AS6     1324\n",
            "AS8     1211\n",
            "M6       901\n",
            "A6       789\n",
            "A8       490\n",
            "AM7      445\n",
            "A9       339\n",
            "AS7      319\n",
            "AV       295\n",
            "M5       193\n",
            "AS10     168\n",
            "AM6      132\n",
            "AV7      118\n",
            "AV6      113\n",
            "M7        91\n",
            "A5        84\n",
            "AS9       77\n",
            "A4        65\n",
            "AM8       62\n",
            "A7        53\n",
            "AV8       39\n",
            "A10       31\n",
            "AS5       26\n",
            "AV10      11\n",
            "AM5        4\n",
            "AM9        3\n",
            "AS4        2\n",
            "Name: Transmission, dtype: int64\n"
          ]
        }
      ]
    },
    {
      "cell_type": "code",
      "metadata": {
        "colab": {
          "base_uri": "https://localhost:8080/"
        },
        "id": "avFvNsMwxXZJ",
        "outputId": "35d48b41-f0fb-4e37-e3cb-5687e8ae6c62"
      },
      "source": [
        "print(Emissions_data.Model.value_counts())\n",
        "#All models of different cars \n"
      ],
      "execution_count": 46,
      "outputs": [
        {
          "output_type": "stream",
          "name": "stdout",
          "text": [
            "F-150 FFV 4X4           32\n",
            "F-150 FFV               32\n",
            "MUSTANG                 27\n",
            "FOCUS FFV               24\n",
            "SONIC                   20\n",
            "                        ..\n",
            "AVENTADOR S ROADSTER     1\n",
            "HURACAN AWD              1\n",
            "HURACAN SPYDER AWD       1\n",
            "LS 500                   1\n",
            "XC40 T4 AWD              1\n",
            "Name: Model, Length: 2053, dtype: int64\n"
          ]
        }
      ]
    },
    {
      "cell_type": "code",
      "metadata": {
        "colab": {
          "base_uri": "https://localhost:8080/"
        },
        "id": "Ug-UvmT7xXiN",
        "outputId": "c8dd9edd-0bce-4715-be6e-4fa105bfaeb5"
      },
      "source": [
        "print(Emissions_data.Make.value_counts())\n",
        "#The company of cars "
      ],
      "execution_count": 47,
      "outputs": [
        {
          "output_type": "stream",
          "name": "stdout",
          "text": [
            "FORD             628\n",
            "CHEVROLET        588\n",
            "BMW              527\n",
            "MERCEDES-BENZ    419\n",
            "PORSCHE          376\n",
            "TOYOTA           330\n",
            "GMC              328\n",
            "AUDI             286\n",
            "NISSAN           259\n",
            "JEEP             251\n",
            "DODGE            246\n",
            "KIA              231\n",
            "HONDA            214\n",
            "HYUNDAI          210\n",
            "MINI             204\n",
            "VOLKSWAGEN       197\n",
            "MAZDA            180\n",
            "LEXUS            178\n",
            "JAGUAR           160\n",
            "CADILLAC         158\n",
            "SUBARU           140\n",
            "VOLVO            124\n",
            "INFINITI         108\n",
            "BUICK            103\n",
            "RAM               97\n",
            "LINCOLN           96\n",
            "MITSUBISHI        95\n",
            "CHRYSLER          88\n",
            "LAND ROVER        85\n",
            "FIAT              73\n",
            "ACURA             72\n",
            "MASERATI          61\n",
            "ROLLS-ROYCE       50\n",
            "ASTON MARTIN      47\n",
            "BENTLEY           46\n",
            "LAMBORGHINI       41\n",
            "ALFA ROMEO        30\n",
            "GENESIS           25\n",
            "SCION             22\n",
            "SMART              7\n",
            "BUGATTI            3\n",
            "SRT                2\n",
            "Name: Make, dtype: int64\n"
          ]
        }
      ]
    },
    {
      "cell_type": "code",
      "metadata": {
        "colab": {
          "base_uri": "https://localhost:8080/"
        },
        "id": "wdBkKJJc-d6Q",
        "outputId": "087259e4-a7e8-4408-ba9b-33d03a555ea3"
      },
      "source": [
        "print(Emissions_data.Fuel_Type.value_counts())\n",
        "# X represents Regular Gasoline\n",
        "# Z represents Premium Gasoline\n",
        "# E represents E85, which is 85% ethanol fuel and 15% gasoline or another hydrocarbon\n",
        "# D represents Diesel\n",
        "# N represents Natural Gasoline "
      ],
      "execution_count": 48,
      "outputs": [
        {
          "output_type": "stream",
          "name": "stdout",
          "text": [
            "X    3637\n",
            "Z    3202\n",
            "E     370\n",
            "D     175\n",
            "N       1\n",
            "Name: Fuel_Type, dtype: int64\n"
          ]
        }
      ]
    },
    {
      "cell_type": "code",
      "metadata": {
        "id": "e7bqylR4-fK_"
      },
      "source": [
        "Emission_fuel_change = Emissions_data.replace({'Fuel_Type':{'D':0, 'E':1, 'N':2, 'X':3, 'Z':4}}) \n"
      ],
      "execution_count": 49,
      "outputs": []
    },
    {
      "cell_type": "code",
      "metadata": {
        "colab": {
          "base_uri": "https://localhost:8080/",
          "height": 1000
        },
        "id": "mRs5UaYv-fN0",
        "outputId": "fe2006cb-9cc7-445a-ef76-979f3dc86654"
      },
      "source": [
        "Emission_fuel_change.tail(20) #shows the list "
      ],
      "execution_count": 50,
      "outputs": [
        {
          "output_type": "execute_result",
          "data": {
            "text/plain": [
              "            Make           Model          Vehicle_Class  Engine_Size(L)  \\\n",
              "7365  VOLKSWAGEN        Golf GTI                COMPACT             2.0   \n",
              "7366  VOLKSWAGEN           Jetta                COMPACT             1.4   \n",
              "7367  VOLKSWAGEN           Jetta                COMPACT             1.4   \n",
              "7368  VOLKSWAGEN       Jetta GLI                COMPACT             2.0   \n",
              "7369  VOLKSWAGEN       Jetta GLI                COMPACT             2.0   \n",
              "7370  VOLKSWAGEN          Passat               MID-SIZE             2.0   \n",
              "7371  VOLKSWAGEN          Tiguan            SUV - SMALL             2.0   \n",
              "7372  VOLKSWAGEN  Tiguan 4MOTION            SUV - SMALL             2.0   \n",
              "7373       VOLVO          S60 T5                COMPACT             2.0   \n",
              "7374       VOLVO      S60 T6 AWD                COMPACT             2.0   \n",
              "7375       VOLVO      S90 T6 AWD               MID-SIZE             2.0   \n",
              "7376       VOLVO          V60 T5  STATION WAGON - SMALL             2.0   \n",
              "7377       VOLVO      V60 T6 AWD  STATION WAGON - SMALL             2.0   \n",
              "7378       VOLVO   V60 CC T5 AWD  STATION WAGON - SMALL             2.0   \n",
              "7379       VOLVO     XC40 T4 AWD            SUV - SMALL             2.0   \n",
              "7380       VOLVO     XC40 T5 AWD            SUV - SMALL             2.0   \n",
              "7381       VOLVO     XC60 T5 AWD            SUV - SMALL             2.0   \n",
              "7382       VOLVO     XC60 T6 AWD            SUV - SMALL             2.0   \n",
              "7383       VOLVO     XC90 T5 AWD         SUV - STANDARD             2.0   \n",
              "7384       VOLVO     XC90 T6 AWD         SUV - STANDARD             2.0   \n",
              "\n",
              "      Cylinders Transmission  Fuel_Type  Fuel_Consumption_City (L/100 km)  \\\n",
              "7365          4           M6          3                               9.8   \n",
              "7366          4          AS8          3                               7.8   \n",
              "7367          4           M6          3                               7.9   \n",
              "7368          4          AM7          3                               9.3   \n",
              "7369          4           M6          3                               9.6   \n",
              "7370          4          AS6          3                              10.2   \n",
              "7371          4          AS8          3                              10.5   \n",
              "7372          4          AS8          3                              11.5   \n",
              "7373          4          AS8          4                              10.5   \n",
              "7374          4          AS8          4                              11.0   \n",
              "7375          4          AS8          4                              11.3   \n",
              "7376          4          AS8          4                              10.5   \n",
              "7377          4          AS8          4                              11.0   \n",
              "7378          4          AS8          4                              10.8   \n",
              "7379          4          AS8          3                              10.2   \n",
              "7380          4          AS8          4                              10.7   \n",
              "7381          4          AS8          4                              11.2   \n",
              "7382          4          AS8          4                              11.7   \n",
              "7383          4          AS8          4                              11.2   \n",
              "7384          4          AS8          4                              12.2   \n",
              "\n",
              "      Fuel_Consumption_Hwy (L/100 km)  Fuel_Consumption_Comb (L/100 km)  \\\n",
              "7365                              7.3                               8.7   \n",
              "7366                              5.9                               7.0   \n",
              "7367                              5.9                               7.0   \n",
              "7368                              7.2                               8.4   \n",
              "7369                              7.1                               8.5   \n",
              "7370                              6.9                               8.7   \n",
              "7371                              8.1                               9.4   \n",
              "7372                              8.7                              10.2   \n",
              "7373                              7.1                               8.9   \n",
              "7374                              7.4                               9.4   \n",
              "7375                              7.5                               9.6   \n",
              "7376                              7.1                               8.9   \n",
              "7377                              7.4                               9.4   \n",
              "7378                              7.7                               9.4   \n",
              "7379                              7.5                               9.0   \n",
              "7380                              7.7                               9.4   \n",
              "7381                              8.3                               9.9   \n",
              "7382                              8.6                              10.3   \n",
              "7383                              8.3                               9.9   \n",
              "7384                              8.7                              10.7   \n",
              "\n",
              "      Fuel_ Consumption_Comb (mpg)  CO2_Emissions(g/km)  \n",
              "7365                            32                  203  \n",
              "7366                            40                  162  \n",
              "7367                            40                  163  \n",
              "7368                            34                  196  \n",
              "7369                            33                  198  \n",
              "7370                            32                  205  \n",
              "7371                            30                  221  \n",
              "7372                            28                  241  \n",
              "7373                            32                  208  \n",
              "7374                            30                  219  \n",
              "7375                            29                  223  \n",
              "7376                            32                  208  \n",
              "7377                            30                  219  \n",
              "7378                            30                  220  \n",
              "7379                            31                  210  \n",
              "7380                            30                  219  \n",
              "7381                            29                  232  \n",
              "7382                            27                  240  \n",
              "7383                            29                  232  \n",
              "7384                            26                  248  "
            ],
            "text/html": [
              "\n",
              "  <div id=\"df-6189766a-71d9-4410-acb0-dbd3389c8d11\">\n",
              "    <div class=\"colab-df-container\">\n",
              "      <div>\n",
              "<style scoped>\n",
              "    .dataframe tbody tr th:only-of-type {\n",
              "        vertical-align: middle;\n",
              "    }\n",
              "\n",
              "    .dataframe tbody tr th {\n",
              "        vertical-align: top;\n",
              "    }\n",
              "\n",
              "    .dataframe thead th {\n",
              "        text-align: right;\n",
              "    }\n",
              "</style>\n",
              "<table border=\"1\" class=\"dataframe\">\n",
              "  <thead>\n",
              "    <tr style=\"text-align: right;\">\n",
              "      <th></th>\n",
              "      <th>Make</th>\n",
              "      <th>Model</th>\n",
              "      <th>Vehicle_Class</th>\n",
              "      <th>Engine_Size(L)</th>\n",
              "      <th>Cylinders</th>\n",
              "      <th>Transmission</th>\n",
              "      <th>Fuel_Type</th>\n",
              "      <th>Fuel_Consumption_City (L/100 km)</th>\n",
              "      <th>Fuel_Consumption_Hwy (L/100 km)</th>\n",
              "      <th>Fuel_Consumption_Comb (L/100 km)</th>\n",
              "      <th>Fuel_ Consumption_Comb (mpg)</th>\n",
              "      <th>CO2_Emissions(g/km)</th>\n",
              "    </tr>\n",
              "  </thead>\n",
              "  <tbody>\n",
              "    <tr>\n",
              "      <th>7365</th>\n",
              "      <td>VOLKSWAGEN</td>\n",
              "      <td>Golf GTI</td>\n",
              "      <td>COMPACT</td>\n",
              "      <td>2.0</td>\n",
              "      <td>4</td>\n",
              "      <td>M6</td>\n",
              "      <td>3</td>\n",
              "      <td>9.8</td>\n",
              "      <td>7.3</td>\n",
              "      <td>8.7</td>\n",
              "      <td>32</td>\n",
              "      <td>203</td>\n",
              "    </tr>\n",
              "    <tr>\n",
              "      <th>7366</th>\n",
              "      <td>VOLKSWAGEN</td>\n",
              "      <td>Jetta</td>\n",
              "      <td>COMPACT</td>\n",
              "      <td>1.4</td>\n",
              "      <td>4</td>\n",
              "      <td>AS8</td>\n",
              "      <td>3</td>\n",
              "      <td>7.8</td>\n",
              "      <td>5.9</td>\n",
              "      <td>7.0</td>\n",
              "      <td>40</td>\n",
              "      <td>162</td>\n",
              "    </tr>\n",
              "    <tr>\n",
              "      <th>7367</th>\n",
              "      <td>VOLKSWAGEN</td>\n",
              "      <td>Jetta</td>\n",
              "      <td>COMPACT</td>\n",
              "      <td>1.4</td>\n",
              "      <td>4</td>\n",
              "      <td>M6</td>\n",
              "      <td>3</td>\n",
              "      <td>7.9</td>\n",
              "      <td>5.9</td>\n",
              "      <td>7.0</td>\n",
              "      <td>40</td>\n",
              "      <td>163</td>\n",
              "    </tr>\n",
              "    <tr>\n",
              "      <th>7368</th>\n",
              "      <td>VOLKSWAGEN</td>\n",
              "      <td>Jetta GLI</td>\n",
              "      <td>COMPACT</td>\n",
              "      <td>2.0</td>\n",
              "      <td>4</td>\n",
              "      <td>AM7</td>\n",
              "      <td>3</td>\n",
              "      <td>9.3</td>\n",
              "      <td>7.2</td>\n",
              "      <td>8.4</td>\n",
              "      <td>34</td>\n",
              "      <td>196</td>\n",
              "    </tr>\n",
              "    <tr>\n",
              "      <th>7369</th>\n",
              "      <td>VOLKSWAGEN</td>\n",
              "      <td>Jetta GLI</td>\n",
              "      <td>COMPACT</td>\n",
              "      <td>2.0</td>\n",
              "      <td>4</td>\n",
              "      <td>M6</td>\n",
              "      <td>3</td>\n",
              "      <td>9.6</td>\n",
              "      <td>7.1</td>\n",
              "      <td>8.5</td>\n",
              "      <td>33</td>\n",
              "      <td>198</td>\n",
              "    </tr>\n",
              "    <tr>\n",
              "      <th>7370</th>\n",
              "      <td>VOLKSWAGEN</td>\n",
              "      <td>Passat</td>\n",
              "      <td>MID-SIZE</td>\n",
              "      <td>2.0</td>\n",
              "      <td>4</td>\n",
              "      <td>AS6</td>\n",
              "      <td>3</td>\n",
              "      <td>10.2</td>\n",
              "      <td>6.9</td>\n",
              "      <td>8.7</td>\n",
              "      <td>32</td>\n",
              "      <td>205</td>\n",
              "    </tr>\n",
              "    <tr>\n",
              "      <th>7371</th>\n",
              "      <td>VOLKSWAGEN</td>\n",
              "      <td>Tiguan</td>\n",
              "      <td>SUV - SMALL</td>\n",
              "      <td>2.0</td>\n",
              "      <td>4</td>\n",
              "      <td>AS8</td>\n",
              "      <td>3</td>\n",
              "      <td>10.5</td>\n",
              "      <td>8.1</td>\n",
              "      <td>9.4</td>\n",
              "      <td>30</td>\n",
              "      <td>221</td>\n",
              "    </tr>\n",
              "    <tr>\n",
              "      <th>7372</th>\n",
              "      <td>VOLKSWAGEN</td>\n",
              "      <td>Tiguan 4MOTION</td>\n",
              "      <td>SUV - SMALL</td>\n",
              "      <td>2.0</td>\n",
              "      <td>4</td>\n",
              "      <td>AS8</td>\n",
              "      <td>3</td>\n",
              "      <td>11.5</td>\n",
              "      <td>8.7</td>\n",
              "      <td>10.2</td>\n",
              "      <td>28</td>\n",
              "      <td>241</td>\n",
              "    </tr>\n",
              "    <tr>\n",
              "      <th>7373</th>\n",
              "      <td>VOLVO</td>\n",
              "      <td>S60 T5</td>\n",
              "      <td>COMPACT</td>\n",
              "      <td>2.0</td>\n",
              "      <td>4</td>\n",
              "      <td>AS8</td>\n",
              "      <td>4</td>\n",
              "      <td>10.5</td>\n",
              "      <td>7.1</td>\n",
              "      <td>8.9</td>\n",
              "      <td>32</td>\n",
              "      <td>208</td>\n",
              "    </tr>\n",
              "    <tr>\n",
              "      <th>7374</th>\n",
              "      <td>VOLVO</td>\n",
              "      <td>S60 T6 AWD</td>\n",
              "      <td>COMPACT</td>\n",
              "      <td>2.0</td>\n",
              "      <td>4</td>\n",
              "      <td>AS8</td>\n",
              "      <td>4</td>\n",
              "      <td>11.0</td>\n",
              "      <td>7.4</td>\n",
              "      <td>9.4</td>\n",
              "      <td>30</td>\n",
              "      <td>219</td>\n",
              "    </tr>\n",
              "    <tr>\n",
              "      <th>7375</th>\n",
              "      <td>VOLVO</td>\n",
              "      <td>S90 T6 AWD</td>\n",
              "      <td>MID-SIZE</td>\n",
              "      <td>2.0</td>\n",
              "      <td>4</td>\n",
              "      <td>AS8</td>\n",
              "      <td>4</td>\n",
              "      <td>11.3</td>\n",
              "      <td>7.5</td>\n",
              "      <td>9.6</td>\n",
              "      <td>29</td>\n",
              "      <td>223</td>\n",
              "    </tr>\n",
              "    <tr>\n",
              "      <th>7376</th>\n",
              "      <td>VOLVO</td>\n",
              "      <td>V60 T5</td>\n",
              "      <td>STATION WAGON - SMALL</td>\n",
              "      <td>2.0</td>\n",
              "      <td>4</td>\n",
              "      <td>AS8</td>\n",
              "      <td>4</td>\n",
              "      <td>10.5</td>\n",
              "      <td>7.1</td>\n",
              "      <td>8.9</td>\n",
              "      <td>32</td>\n",
              "      <td>208</td>\n",
              "    </tr>\n",
              "    <tr>\n",
              "      <th>7377</th>\n",
              "      <td>VOLVO</td>\n",
              "      <td>V60 T6 AWD</td>\n",
              "      <td>STATION WAGON - SMALL</td>\n",
              "      <td>2.0</td>\n",
              "      <td>4</td>\n",
              "      <td>AS8</td>\n",
              "      <td>4</td>\n",
              "      <td>11.0</td>\n",
              "      <td>7.4</td>\n",
              "      <td>9.4</td>\n",
              "      <td>30</td>\n",
              "      <td>219</td>\n",
              "    </tr>\n",
              "    <tr>\n",
              "      <th>7378</th>\n",
              "      <td>VOLVO</td>\n",
              "      <td>V60 CC T5 AWD</td>\n",
              "      <td>STATION WAGON - SMALL</td>\n",
              "      <td>2.0</td>\n",
              "      <td>4</td>\n",
              "      <td>AS8</td>\n",
              "      <td>4</td>\n",
              "      <td>10.8</td>\n",
              "      <td>7.7</td>\n",
              "      <td>9.4</td>\n",
              "      <td>30</td>\n",
              "      <td>220</td>\n",
              "    </tr>\n",
              "    <tr>\n",
              "      <th>7379</th>\n",
              "      <td>VOLVO</td>\n",
              "      <td>XC40 T4 AWD</td>\n",
              "      <td>SUV - SMALL</td>\n",
              "      <td>2.0</td>\n",
              "      <td>4</td>\n",
              "      <td>AS8</td>\n",
              "      <td>3</td>\n",
              "      <td>10.2</td>\n",
              "      <td>7.5</td>\n",
              "      <td>9.0</td>\n",
              "      <td>31</td>\n",
              "      <td>210</td>\n",
              "    </tr>\n",
              "    <tr>\n",
              "      <th>7380</th>\n",
              "      <td>VOLVO</td>\n",
              "      <td>XC40 T5 AWD</td>\n",
              "      <td>SUV - SMALL</td>\n",
              "      <td>2.0</td>\n",
              "      <td>4</td>\n",
              "      <td>AS8</td>\n",
              "      <td>4</td>\n",
              "      <td>10.7</td>\n",
              "      <td>7.7</td>\n",
              "      <td>9.4</td>\n",
              "      <td>30</td>\n",
              "      <td>219</td>\n",
              "    </tr>\n",
              "    <tr>\n",
              "      <th>7381</th>\n",
              "      <td>VOLVO</td>\n",
              "      <td>XC60 T5 AWD</td>\n",
              "      <td>SUV - SMALL</td>\n",
              "      <td>2.0</td>\n",
              "      <td>4</td>\n",
              "      <td>AS8</td>\n",
              "      <td>4</td>\n",
              "      <td>11.2</td>\n",
              "      <td>8.3</td>\n",
              "      <td>9.9</td>\n",
              "      <td>29</td>\n",
              "      <td>232</td>\n",
              "    </tr>\n",
              "    <tr>\n",
              "      <th>7382</th>\n",
              "      <td>VOLVO</td>\n",
              "      <td>XC60 T6 AWD</td>\n",
              "      <td>SUV - SMALL</td>\n",
              "      <td>2.0</td>\n",
              "      <td>4</td>\n",
              "      <td>AS8</td>\n",
              "      <td>4</td>\n",
              "      <td>11.7</td>\n",
              "      <td>8.6</td>\n",
              "      <td>10.3</td>\n",
              "      <td>27</td>\n",
              "      <td>240</td>\n",
              "    </tr>\n",
              "    <tr>\n",
              "      <th>7383</th>\n",
              "      <td>VOLVO</td>\n",
              "      <td>XC90 T5 AWD</td>\n",
              "      <td>SUV - STANDARD</td>\n",
              "      <td>2.0</td>\n",
              "      <td>4</td>\n",
              "      <td>AS8</td>\n",
              "      <td>4</td>\n",
              "      <td>11.2</td>\n",
              "      <td>8.3</td>\n",
              "      <td>9.9</td>\n",
              "      <td>29</td>\n",
              "      <td>232</td>\n",
              "    </tr>\n",
              "    <tr>\n",
              "      <th>7384</th>\n",
              "      <td>VOLVO</td>\n",
              "      <td>XC90 T6 AWD</td>\n",
              "      <td>SUV - STANDARD</td>\n",
              "      <td>2.0</td>\n",
              "      <td>4</td>\n",
              "      <td>AS8</td>\n",
              "      <td>4</td>\n",
              "      <td>12.2</td>\n",
              "      <td>8.7</td>\n",
              "      <td>10.7</td>\n",
              "      <td>26</td>\n",
              "      <td>248</td>\n",
              "    </tr>\n",
              "  </tbody>\n",
              "</table>\n",
              "</div>\n",
              "      <button class=\"colab-df-convert\" onclick=\"convertToInteractive('df-6189766a-71d9-4410-acb0-dbd3389c8d11')\"\n",
              "              title=\"Convert this dataframe to an interactive table.\"\n",
              "              style=\"display:none;\">\n",
              "        \n",
              "  <svg xmlns=\"http://www.w3.org/2000/svg\" height=\"24px\"viewBox=\"0 0 24 24\"\n",
              "       width=\"24px\">\n",
              "    <path d=\"M0 0h24v24H0V0z\" fill=\"none\"/>\n",
              "    <path d=\"M18.56 5.44l.94 2.06.94-2.06 2.06-.94-2.06-.94-.94-2.06-.94 2.06-2.06.94zm-11 1L8.5 8.5l.94-2.06 2.06-.94-2.06-.94L8.5 2.5l-.94 2.06-2.06.94zm10 10l.94 2.06.94-2.06 2.06-.94-2.06-.94-.94-2.06-.94 2.06-2.06.94z\"/><path d=\"M17.41 7.96l-1.37-1.37c-.4-.4-.92-.59-1.43-.59-.52 0-1.04.2-1.43.59L10.3 9.45l-7.72 7.72c-.78.78-.78 2.05 0 2.83L4 21.41c.39.39.9.59 1.41.59.51 0 1.02-.2 1.41-.59l7.78-7.78 2.81-2.81c.8-.78.8-2.07 0-2.86zM5.41 20L4 18.59l7.72-7.72 1.47 1.35L5.41 20z\"/>\n",
              "  </svg>\n",
              "      </button>\n",
              "      \n",
              "  <style>\n",
              "    .colab-df-container {\n",
              "      display:flex;\n",
              "      flex-wrap:wrap;\n",
              "      gap: 12px;\n",
              "    }\n",
              "\n",
              "    .colab-df-convert {\n",
              "      background-color: #E8F0FE;\n",
              "      border: none;\n",
              "      border-radius: 50%;\n",
              "      cursor: pointer;\n",
              "      display: none;\n",
              "      fill: #1967D2;\n",
              "      height: 32px;\n",
              "      padding: 0 0 0 0;\n",
              "      width: 32px;\n",
              "    }\n",
              "\n",
              "    .colab-df-convert:hover {\n",
              "      background-color: #E2EBFA;\n",
              "      box-shadow: 0px 1px 2px rgba(60, 64, 67, 0.3), 0px 1px 3px 1px rgba(60, 64, 67, 0.15);\n",
              "      fill: #174EA6;\n",
              "    }\n",
              "\n",
              "    [theme=dark] .colab-df-convert {\n",
              "      background-color: #3B4455;\n",
              "      fill: #D2E3FC;\n",
              "    }\n",
              "\n",
              "    [theme=dark] .colab-df-convert:hover {\n",
              "      background-color: #434B5C;\n",
              "      box-shadow: 0px 1px 3px 1px rgba(0, 0, 0, 0.15);\n",
              "      filter: drop-shadow(0px 1px 2px rgba(0, 0, 0, 0.3));\n",
              "      fill: #FFFFFF;\n",
              "    }\n",
              "  </style>\n",
              "\n",
              "      <script>\n",
              "        const buttonEl =\n",
              "          document.querySelector('#df-6189766a-71d9-4410-acb0-dbd3389c8d11 button.colab-df-convert');\n",
              "        buttonEl.style.display =\n",
              "          google.colab.kernel.accessAllowed ? 'block' : 'none';\n",
              "\n",
              "        async function convertToInteractive(key) {\n",
              "          const element = document.querySelector('#df-6189766a-71d9-4410-acb0-dbd3389c8d11');\n",
              "          const dataTable =\n",
              "            await google.colab.kernel.invokeFunction('convertToInteractive',\n",
              "                                                     [key], {});\n",
              "          if (!dataTable) return;\n",
              "\n",
              "          const docLinkHtml = 'Like what you see? Visit the ' +\n",
              "            '<a target=\"_blank\" href=https://colab.research.google.com/notebooks/data_table.ipynb>data table notebook</a>'\n",
              "            + ' to learn more about interactive tables.';\n",
              "          element.innerHTML = '';\n",
              "          dataTable['output_type'] = 'display_data';\n",
              "          await google.colab.output.renderOutput(dataTable, element);\n",
              "          const docLink = document.createElement('div');\n",
              "          docLink.innerHTML = docLinkHtml;\n",
              "          element.appendChild(docLink);\n",
              "        }\n",
              "      </script>\n",
              "    </div>\n",
              "  </div>\n",
              "  "
            ]
          },
          "metadata": {},
          "execution_count": 50
        }
      ]
    },
    {
      "cell_type": "markdown",
      "metadata": {
        "id": "zeQEDQM5Awsb"
      },
      "source": [
        "Splitting Data for predicting CO2 Emissions"
      ]
    },
    {
      "cell_type": "code",
      "metadata": {
        "id": "ELhkXrpb-fRM",
        "colab": {
          "base_uri": "https://localhost:8080/"
        },
        "outputId": "97c7e668-d6cd-49e6-b309-170efbdf9dd7"
      },
      "source": [
        "#dropping columns that won't be used for prediction \n",
        "\n",
        "Emission_updated = Emission_fuel_change.drop(Emission_fuel_change.iloc[:, [0, 1, 2, 5, 6, 9, 10, 11]], axis = 1)\n",
        "print(Emission_updated)\n",
        "    \n",
        "X = Emission_updated #data that will help for the prediction, as their numerical \n",
        "Y = Emission_fuel_change.iloc[: , 11]\n"
      ],
      "execution_count": 57,
      "outputs": [
        {
          "output_type": "stream",
          "name": "stdout",
          "text": [
            "      Engine_Size(L)  Cylinders  Fuel_Consumption_City (L/100 km)  \\\n",
            "0                2.0          4                               9.9   \n",
            "1                2.4          4                              11.2   \n",
            "2                1.5          4                               6.0   \n",
            "3                3.5          6                              12.7   \n",
            "4                3.5          6                              12.1   \n",
            "...              ...        ...                               ...   \n",
            "7380             2.0          4                              10.7   \n",
            "7381             2.0          4                              11.2   \n",
            "7382             2.0          4                              11.7   \n",
            "7383             2.0          4                              11.2   \n",
            "7384             2.0          4                              12.2   \n",
            "\n",
            "      Fuel_Consumption_Hwy (L/100 km)  \n",
            "0                                 6.7  \n",
            "1                                 7.7  \n",
            "2                                 5.8  \n",
            "3                                 9.1  \n",
            "4                                 8.7  \n",
            "...                               ...  \n",
            "7380                              7.7  \n",
            "7381                              8.3  \n",
            "7382                              8.6  \n",
            "7383                              8.3  \n",
            "7384                              8.7  \n",
            "\n",
            "[7385 rows x 4 columns]\n"
          ]
        }
      ]
    },
    {
      "cell_type": "code",
      "metadata": {
        "colab": {
          "base_uri": "https://localhost:8080/"
        },
        "id": "h8lk8bwR-fT1",
        "outputId": "389f3a50-0ded-499b-c739-3ae5a21d71be"
      },
      "source": [
        "print(X), print(Y)"
      ],
      "execution_count": 52,
      "outputs": [
        {
          "output_type": "stream",
          "name": "stdout",
          "text": [
            "      Engine_Size(L)  Cylinders  Fuel_Consumption_City (L/100 km)  \\\n",
            "0                2.0          4                               9.9   \n",
            "1                2.4          4                              11.2   \n",
            "2                1.5          4                               6.0   \n",
            "3                3.5          6                              12.7   \n",
            "4                3.5          6                              12.1   \n",
            "...              ...        ...                               ...   \n",
            "7380             2.0          4                              10.7   \n",
            "7381             2.0          4                              11.2   \n",
            "7382             2.0          4                              11.7   \n",
            "7383             2.0          4                              11.2   \n",
            "7384             2.0          4                              12.2   \n",
            "\n",
            "      Fuel_Consumption_Hwy (L/100 km)  \n",
            "0                                 6.7  \n",
            "1                                 7.7  \n",
            "2                                 5.8  \n",
            "3                                 9.1  \n",
            "4                                 8.7  \n",
            "...                               ...  \n",
            "7380                              7.7  \n",
            "7381                              8.3  \n",
            "7382                              8.6  \n",
            "7383                              8.3  \n",
            "7384                              8.7  \n",
            "\n",
            "[7385 rows x 4 columns]\n",
            "0       196\n",
            "1       221\n",
            "2       136\n",
            "3       255\n",
            "4       244\n",
            "       ... \n",
            "7380    219\n",
            "7381    232\n",
            "7382    240\n",
            "7383    232\n",
            "7384    248\n",
            "Name: CO2_Emissions(g/km), Length: 7385, dtype: int64\n"
          ]
        },
        {
          "output_type": "execute_result",
          "data": {
            "text/plain": [
              "(None, None)"
            ]
          },
          "metadata": {},
          "execution_count": 52
        }
      ]
    },
    {
      "cell_type": "markdown",
      "metadata": {
        "id": "JG0UScUvDDae"
      },
      "source": [
        "Splitting Training and Testing Data"
      ]
    },
    {
      "cell_type": "code",
      "metadata": {
        "id": "ne9W4gb1DBHn"
      },
      "source": [
        "X_train, X_test, Y_train, Y_test = train_test_split(X, Y, test_size = 0.2, random_state = 1) "
      ],
      "execution_count": 53,
      "outputs": []
    },
    {
      "cell_type": "code",
      "metadata": {
        "id": "_yLbKJDdDMIF"
      },
      "source": [
        "lin_reg_model = LinearRegression()\n",
        "LinearRegression().fit(X_train, Y_train) #training data to create a linear model\n",
        "lin_reg_model.fit(X_test, Y_test) #seeing if the testing data is fitted to be compared \n",
        "data_prediction = lin_reg_model.predict(X_test) #values that will be utilized to test linear model"
      ],
      "execution_count": 59,
      "outputs": []
    },
    {
      "cell_type": "code",
      "metadata": {
        "colab": {
          "base_uri": "https://localhost:8080/"
        },
        "id": "thTk8GI8Doa1",
        "outputId": "4862e91b-f2ff-4556-833c-864aa024c0ee"
      },
      "source": [
        "R2_score = metrics.r2_score(Y_test, data_prediction)\n",
        "print (R2_score)  #prints score which demonstrates how close the predicted data is with the actual data, based on closeness towards 1"
      ],
      "execution_count": 55,
      "outputs": [
        {
          "output_type": "stream",
          "name": "stdout",
          "text": [
            "0.8804408820718505\n"
          ]
        }
      ]
    },
    {
      "cell_type": "code",
      "metadata": {
        "colab": {
          "base_uri": "https://localhost:8080/",
          "height": 312
        },
        "id": "HxytEBrwDoie",
        "outputId": "f9c868b9-78d8-4fd1-a736-b25bfa8ef58d"
      },
      "source": [
        "\n",
        "#Visualizing linear regression of real data vs predicted data \n",
        "\n",
        "plt.scatter(Y_test, data_prediction)\n",
        "plt.xlabel(\"Real C02 Emissions\")\n",
        "plt.ylabel(\"Predicted C02 Emissions \")\n",
        "plt.title(\" Predicted C02 Emissions vs Real C02 Emissions\")\n"
      ],
      "execution_count": 60,
      "outputs": [
        {
          "output_type": "execute_result",
          "data": {
            "text/plain": [
              "Text(0.5, 1.0, ' Predicted C02 Emissions vs Real C02 Emissions')"
            ]
          },
          "metadata": {},
          "execution_count": 60
        },
        {
          "output_type": "display_data",
          "data": {
            "text/plain": [
              "<Figure size 432x288 with 1 Axes>"
            ],
            "image/png": "[encoded data removed]"
          },
          "metadata": {
            "needs_background": "light"
          }
        }
      ]
    }
  ]
}